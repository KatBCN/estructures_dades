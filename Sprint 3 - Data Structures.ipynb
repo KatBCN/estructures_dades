{
 "cells": [
  {
   "cell_type": "markdown",
   "id": "06d9b061",
   "metadata": {},
   "source": [
    "# <span style=\"color:#d50283\">IT Academy - Data Science Itinerary</span>\n",
    "## Sprint 3 - Data Structures\n",
    "### Assignment by: Kat Weissman"
   ]
  },
  {
   "cell_type": "markdown",
   "id": "c6936ec3",
   "metadata": {},
   "source": [
    "#### Python Learning Objectives:\n",
    "- Lists\n",
    "- Tuples\n",
    "- Sets\n",
    "- Dictionaries"
   ]
  },
  {
   "cell_type": "markdown",
   "id": "6ce01116",
   "metadata": {},
   "source": [
    "*Recommended learning resources:*\n",
    "- https://www.w3schools.com/python/python_lists.asp\n",
    "- https://www.w3schools.com/python/python_tuples.asp\n",
    "- https://www.w3schools.com/python/python_sets.asp\n",
    "- https://www.w3schools.com/python/python_dictionaries.asp"
   ]
  },
  {
   "cell_type": "markdown",
   "id": "8dc0493b",
   "metadata": {},
   "source": [
    "### Exercise 1\n",
    "\n",
    "Create a list that groups the months of the year into quarters (Q1: January, February and March, Q2: April, May, June ...), that is, a list with 4 lists inside."
   ]
  },
  {
   "cell_type": "code",
   "execution_count": 158,
   "id": "0509e950",
   "metadata": {
    "ExecuteTime": {
     "end_time": "2021-07-21T12:01:24.398711Z",
     "start_time": "2021-07-21T12:01:24.393457Z"
    }
   },
   "outputs": [],
   "source": [
    "quarters = [['January', 'February', 'March'],\n",
    "            ['April', 'May', 'June'],\n",
    "            ['July', 'August', 'September'],\n",
    "            ['October', 'November', 'December']]"
   ]
  },
  {
   "cell_type": "markdown",
   "id": "b10495bb",
   "metadata": {},
   "source": [
    "### Exercise 2\n",
    "\n",
    "Create a code that allows you to access:\n",
    "\n",
    "- The second month of the first quarter\n",
    "- The months of the first quarter\n",
    "- September and October"
   ]
  },
  {
   "cell_type": "code",
   "execution_count": 159,
   "id": "e426eb56",
   "metadata": {
    "ExecuteTime": {
     "end_time": "2021-07-21T12:01:24.425804Z",
     "start_time": "2021-07-21T12:01:24.420701Z"
    }
   },
   "outputs": [
    {
     "name": "stdout",
     "output_type": "stream",
     "text": [
      "The second month of the first quarter is: February\n"
     ]
    }
   ],
   "source": [
    "#Python indexing begins with 0, so the first element is [0] and the second element is [1]\n",
    "q1m2 = quarters[0][1]\n",
    "print (\"The second month of the first quarter is:\", q1m2)"
   ]
  },
  {
   "cell_type": "code",
   "execution_count": 160,
   "id": "03606efd",
   "metadata": {
    "ExecuteTime": {
     "end_time": "2021-07-21T12:01:24.447485Z",
     "start_time": "2021-07-21T12:01:24.442788Z"
    }
   },
   "outputs": [
    {
     "name": "stdout",
     "output_type": "stream",
     "text": [
      "The months of the first quarter are:\n",
      "January\n",
      "February\n",
      "March\n"
     ]
    }
   ],
   "source": [
    "q1 = quarters[0]\n",
    "print (\"The months of the first quarter are:\")\n",
    "for month in q1: print(month)"
   ]
  },
  {
   "cell_type": "code",
   "execution_count": 161,
   "id": "feec1491",
   "metadata": {
    "ExecuteTime": {
     "end_time": "2021-07-21T12:01:24.477240Z",
     "start_time": "2021-07-21T12:01:24.469279Z"
    },
    "scrolled": true
   },
   "outputs": [
    {
     "name": "stdout",
     "output_type": "stream",
     "text": [
      "September is located at the index (2, 2)\n",
      "October is located at the index (3, 0)\n"
     ]
    }
   ],
   "source": [
    "#The index method can be used to find the index of values in a list.\n",
    "myMonths = [\"September\",\"October\"]\n",
    "indexMonths = []\n",
    "for quarter in quarters:\n",
    "    for month in myMonths:    \n",
    "        if month in quarter:\n",
    "            indexMonths.append((quarters.index(quarter),quarter.index(month)))\n",
    "\n",
    "for i in range (len(myMonths)):\n",
    "    print (myMonths[i], \"is located at the index\", indexMonths[i])"
   ]
  },
  {
   "cell_type": "code",
   "execution_count": 162,
   "id": "8856fd34",
   "metadata": {
    "ExecuteTime": {
     "end_time": "2021-07-21T12:01:24.501883Z",
     "start_time": "2021-07-21T12:01:24.494580Z"
    }
   },
   "outputs": [
    {
     "name": "stdout",
     "output_type": "stream",
     "text": [
      "September\n",
      "October\n"
     ]
    }
   ],
   "source": [
    "#The resulting indices can then be used to access the values at the location of the index.\n",
    "for i in range(len(indexMonths)):\n",
    "    print(quarters[indexMonths[i][0]][indexMonths[i][1]])"
   ]
  },
  {
   "cell_type": "markdown",
   "id": "3a70524c",
   "metadata": {},
   "source": [
    "### Exercise 3\n",
    "Create a list of disordered numbers and answer the following questions:\n",
    "- How many numbers are there?\n",
    "- How many times does the number 3 appear\n",
    "- How often do the numbers 3 and 4 appear?\n",
    "- What is the largest number?\n",
    "- What are the 3 smallest numbers?\n",
    "- What is the range of this list?\n",
    "\n",
    "In the code below, the random module is used to generate the list of numbers.\n",
    "\n",
    "*Reference:* \n",
    "- https://www.w3schools.com/python/module_random.asp\n",
    "- https://www.w3schools.com/python/python_lists_methods.asp\n",
    "- https://www.w3schools.com/python/python_ref_functions.asp\n"
   ]
  },
  {
   "cell_type": "code",
   "execution_count": 163,
   "id": "2fcb293e",
   "metadata": {
    "ExecuteTime": {
     "end_time": "2021-07-21T12:01:24.533927Z",
     "start_time": "2021-07-21T12:01:24.525085Z"
    }
   },
   "outputs": [
    {
     "name": "stdout",
     "output_type": "stream",
     "text": [
      "[8, 11, 20, 16, 0, 14, 7, 20, 1, 5, 3, 11, 15, 7, 12, 17, 3, 18, 7, 0, 6, 13, 8, 5, 12, 5, 2, 4, 19, 19, 14, 4, 4, 0, 0, 6, 6, 5, 5]\n"
     ]
    }
   ],
   "source": [
    "#The random module can be used to generate random numbers\n",
    "import random\n",
    "#Optionally choose an integer to set the random seed in order to get the same results each time the code runs.\n",
    "random.seed(5)\n",
    "\n",
    "#Create a variable to randomly assign the length of the list in the range specified.\n",
    "length = random.randint(20,50)\n",
    "\n",
    "#Create an empty list and use a for loop to populate the list with random numbers in the range specified.\n",
    "myList = []\n",
    "for i in range(length): myList.append(random.randint(0,20))\n",
    "\n",
    "print(myList)"
   ]
  },
  {
   "cell_type": "code",
   "execution_count": 164,
   "id": "59b549d1",
   "metadata": {
    "ExecuteTime": {
     "end_time": "2021-07-21T12:01:24.562386Z",
     "start_time": "2021-07-21T12:01:24.552330Z"
    }
   },
   "outputs": [
    {
     "name": "stdout",
     "output_type": "stream",
     "text": [
      "There are 39 numbers in the list.\n",
      "The number 3 appears 2 times in the list.\n",
      "The numbers 3 and 4 appear 5 times in the list.\n",
      "The largest number in the list is 20.\n",
      "The three smallest numbers in the list are [0, 0, 0].\n",
      "The range of the list is 20.\n"
     ]
    }
   ],
   "source": [
    "#Use the len function to return the length of the list.\n",
    "print (\"There are\", len(myList), \"numbers in the list.\")\n",
    "\n",
    "#Use the count method to return the number of times an item appears in the list.\n",
    "print (\"The number 3 appears\", myList.count(3), \"times in the list.\")\n",
    "print (\"The numbers 3 and 4 appear\", myList.count(3) + myList.count(4), \"times in the list.\")\n",
    "\n",
    "#Use the max function to return the highest number in the list.\n",
    "print (\"The largest number in the list is\", str(max(myList)) + \".\")\n",
    "\n",
    "#Assign the sorted list to a new variable in order to preserve the unsorted list.\n",
    "mySortedList = sorted(myList)\n",
    "\n",
    "#Use the sorted list to find the three smallest numbers.\n",
    "print (\"The three smallest numbers in the list are\", str(mySortedList[0:3]) +\".\")\n",
    "\n",
    "#Use the max and min functions to find the range of the list.\n",
    "print (\"The range of the list is\", str(max(myList)-min(myList)) + \".\")"
   ]
  },
  {
   "cell_type": "markdown",
   "id": "a806cb76",
   "metadata": {},
   "source": [
    "### Exercise 4\n",
    "Create a dictionary as follows and answer the questions:\n",
    "\n",
    "purchase = {\"Apples\": {\"Qty\": 5, \"€\": 0.42}, \"Pears\": {\"Qty\": 3, \"€\": 0.66}}\n",
    "\n",
    "- Add some more fruit\n",
    "- How much did the pears cost in total?\n",
    "- How many fruits did we buy in total?\n",
    "- What is the most expensive fruit?"
   ]
  },
  {
   "cell_type": "code",
   "execution_count": 165,
   "id": "2f922efc",
   "metadata": {
    "ExecuteTime": {
     "end_time": "2021-07-21T12:01:24.595572Z",
     "start_time": "2021-07-21T12:01:24.585282Z"
    },
    "lang": "en"
   },
   "outputs": [
    {
     "name": "stdout",
     "output_type": "stream",
     "text": [
      "{'Apples': {'Qty': 5, '€': 0.42}, 'Pears': {'Qty': 3, '€': 0.66}, 'Oranges': {'Qty': 2, '€': 0.45}, 'Strawberries': {'Qty': 1, '€': 2.9}, 'Melons': {'Qty': 2, '€': 2.7}, 'Avocados': {'Qty': 3, '€': 1.0}, 'Pineapples': {'Qty': 1, '€': 1.75}}\n"
     ]
    }
   ],
   "source": [
    "purchase = {\"Apples\": {\"Qty\": 5, \"€\": 0.42}, \"Pears\": {\"Qty\": 3, \"€\": 0.66}}\n",
    "\n",
    "#Add items to the dictionary using the update method. The object must be a dictionary.\n",
    "purchase.update({\"Oranges\":{\"Qty\":2, \"€\": 0.45},\n",
    "                 \"Strawberries\":{\"Qty\":1, \"€\": 2.90},\n",
    "                 \"Melons\":{\"Qty\":2, \"€\": 2.70},\n",
    "                 \"Avocados\":{\"Qty\":3, \"€\": 1.00},\n",
    "                 \"Pineapples\":{\"Qty\":1, \"€\": 1.75}})\n",
    "\n",
    "print(purchase)"
   ]
  },
  {
   "cell_type": "code",
   "execution_count": 166,
   "id": "e06f14a3",
   "metadata": {
    "ExecuteTime": {
     "end_time": "2021-07-21T12:01:24.643345Z",
     "start_time": "2021-07-21T12:01:24.625242Z"
    }
   },
   "outputs": [
    {
     "name": "stdout",
     "output_type": "stream",
     "text": [
      "The total cost of pears is €1.98.\n"
     ]
    }
   ],
   "source": [
    "#Access the values of items in the dictionary by using the key\n",
    "costPears = purchase[\"Pears\"][\"Qty\"]*purchase[\"Pears\"][\"€\"]\n",
    "print(\"The total cost of pears is €\" + str(costPears) + \".\")"
   ]
  },
  {
   "cell_type": "code",
   "execution_count": null,
   "id": "169abdf8",
   "metadata": {
    "ExecuteTime": {
     "end_time": "2021-07-21T12:01:24.666374Z",
     "start_time": "2021-07-21T12:01:24.652451Z"
    }
   },
   "outputs": [],
   "source": [
    "#initialize the counting variable\n",
    "totalFruits = 0 \n",
    "#fruits represents the keys of the purchase dictionary.\n",
    "for fruits in purchase:  \n",
    "    #increment the counter by value of \"Qty\"\n",
    "    totalFruits += (purchase[fruits][\"Qty\"]) \n",
    "    \n",
    "print (\"The purchase includes\", totalFruits, \"fruits.\")"
   ]
  },
  {
   "cell_type": "code",
   "execution_count": 168,
   "id": "b2474cee",
   "metadata": {
    "ExecuteTime": {
     "end_time": "2021-07-21T12:01:24.680505Z",
     "start_time": "2021-07-21T12:01:24.672285Z"
    }
   },
   "outputs": [
    {
     "data": {
      "text/plain": [
       "2.9"
      ]
     },
     "execution_count": 168,
     "metadata": {},
     "output_type": "execute_result"
    }
   ],
   "source": [
    "#The max function can return the maximum value, but doesn't return the name of the key\n",
    "max(fruits[\"€\"] for fruits in purchase.values())\n"
   ]
  },
  {
   "cell_type": "code",
   "execution_count": 169,
   "id": "aeab159c",
   "metadata": {
    "ExecuteTime": {
     "end_time": "2021-07-21T12:01:24.691697Z",
     "start_time": "2021-07-21T12:01:24.684643Z"
    }
   },
   "outputs": [
    {
     "name": "stdout",
     "output_type": "stream",
     "text": [
      "The most expensive fruit is Strawberries for €2.90.\n"
     ]
    }
   ],
   "source": [
    "#initialize a tuple variable to track the most expensive fruit.\n",
    "expensiveFruit =(\"\",0)\n",
    "#iterate through the dictionary to keep track of the most expensive fruit.\n",
    "for fruits in purchase:\n",
    "    if purchase[fruits][\"€\"] > expensiveFruit[1]:\n",
    "        expensiveFruit = (fruits,purchase[fruits][\"€\"])\n",
    "\n",
    "print(\"The most expensive fruit is {} for €{:.2f}.\".format(expensiveFruit[0],expensiveFruit[1]))"
   ]
  }
 ],
 "metadata": {
  "kernelspec": {
   "display_name": "Python 3",
   "language": "python",
   "name": "python3"
  },
  "language_info": {
   "codemirror_mode": {
    "name": "ipython",
    "version": 3
   },
   "file_extension": ".py",
   "mimetype": "text/x-python",
   "name": "python",
   "nbconvert_exporter": "python",
   "pygments_lexer": "ipython3",
   "version": "3.8.8"
  },
  "nbTranslate": {
   "displayLangs": [
    "es",
    "en"
   ],
   "hotkey": "alt-t",
   "langInMainMenu": true,
   "sourceLang": "en",
   "targetLang": "es",
   "useGoogleTranslate": true
  },
  "varInspector": {
   "cols": {
    "lenName": 16,
    "lenType": 16,
    "lenVar": 40
   },
   "kernels_config": {
    "python": {
     "delete_cmd_postfix": "",
     "delete_cmd_prefix": "del ",
     "library": "var_list.py",
     "varRefreshCmd": "print(var_dic_list())"
    },
    "r": {
     "delete_cmd_postfix": ") ",
     "delete_cmd_prefix": "rm(",
     "library": "var_list.r",
     "varRefreshCmd": "cat(var_dic_list()) "
    }
   },
   "types_to_exclude": [
    "module",
    "function",
    "builtin_function_or_method",
    "instance",
    "_Feature"
   ],
   "window_display": false
  }
 },
 "nbformat": 4,
 "nbformat_minor": 5
}
